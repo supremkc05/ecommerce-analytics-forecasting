{
 "cells": [
  {
   "cell_type": "code",
   "execution_count": 1,
   "id": "dddd6082",
   "metadata": {},
   "outputs": [],
   "source": [
    "import pandas as pd \n",
    "import matplotlib.pyplot as plt\n",
    "import seaborn as sns"
   ]
  },
  {
   "cell_type": "code",
   "execution_count": 2,
   "id": "57a4f8ec",
   "metadata": {},
   "outputs": [],
   "source": [
    "df = pd.read_csv('data/data.csv', encoding='latin1')"
   ]
  },
  {
   "cell_type": "code",
   "execution_count": 3,
   "id": "c6c9c9e7",
   "metadata": {},
   "outputs": [
    {
     "data": {
      "text/html": [
       "<div>\n",
       "<style scoped>\n",
       "    .dataframe tbody tr th:only-of-type {\n",
       "        vertical-align: middle;\n",
       "    }\n",
       "\n",
       "    .dataframe tbody tr th {\n",
       "        vertical-align: top;\n",
       "    }\n",
       "\n",
       "    .dataframe thead th {\n",
       "        text-align: right;\n",
       "    }\n",
       "</style>\n",
       "<table border=\"1\" class=\"dataframe\">\n",
       "  <thead>\n",
       "    <tr style=\"text-align: right;\">\n",
       "      <th></th>\n",
       "      <th>InvoiceNo</th>\n",
       "      <th>StockCode</th>\n",
       "      <th>Description</th>\n",
       "      <th>Quantity</th>\n",
       "      <th>InvoiceDate</th>\n",
       "      <th>UnitPrice</th>\n",
       "      <th>CustomerID</th>\n",
       "      <th>Country</th>\n",
       "    </tr>\n",
       "  </thead>\n",
       "  <tbody>\n",
       "    <tr>\n",
       "      <th>0</th>\n",
       "      <td>536365</td>\n",
       "      <td>85123A</td>\n",
       "      <td>WHITE HANGING HEART T-LIGHT HOLDER</td>\n",
       "      <td>6</td>\n",
       "      <td>12/1/2010 8:26</td>\n",
       "      <td>2.55</td>\n",
       "      <td>17850.0</td>\n",
       "      <td>United Kingdom</td>\n",
       "    </tr>\n",
       "    <tr>\n",
       "      <th>1</th>\n",
       "      <td>536365</td>\n",
       "      <td>71053</td>\n",
       "      <td>WHITE METAL LANTERN</td>\n",
       "      <td>6</td>\n",
       "      <td>12/1/2010 8:26</td>\n",
       "      <td>3.39</td>\n",
       "      <td>17850.0</td>\n",
       "      <td>United Kingdom</td>\n",
       "    </tr>\n",
       "    <tr>\n",
       "      <th>2</th>\n",
       "      <td>536365</td>\n",
       "      <td>84406B</td>\n",
       "      <td>CREAM CUPID HEARTS COAT HANGER</td>\n",
       "      <td>8</td>\n",
       "      <td>12/1/2010 8:26</td>\n",
       "      <td>2.75</td>\n",
       "      <td>17850.0</td>\n",
       "      <td>United Kingdom</td>\n",
       "    </tr>\n",
       "    <tr>\n",
       "      <th>3</th>\n",
       "      <td>536365</td>\n",
       "      <td>84029G</td>\n",
       "      <td>KNITTED UNION FLAG HOT WATER BOTTLE</td>\n",
       "      <td>6</td>\n",
       "      <td>12/1/2010 8:26</td>\n",
       "      <td>3.39</td>\n",
       "      <td>17850.0</td>\n",
       "      <td>United Kingdom</td>\n",
       "    </tr>\n",
       "    <tr>\n",
       "      <th>4</th>\n",
       "      <td>536365</td>\n",
       "      <td>84029E</td>\n",
       "      <td>RED WOOLLY HOTTIE WHITE HEART.</td>\n",
       "      <td>6</td>\n",
       "      <td>12/1/2010 8:26</td>\n",
       "      <td>3.39</td>\n",
       "      <td>17850.0</td>\n",
       "      <td>United Kingdom</td>\n",
       "    </tr>\n",
       "  </tbody>\n",
       "</table>\n",
       "</div>"
      ],
      "text/plain": [
       "  InvoiceNo StockCode                          Description  Quantity  \\\n",
       "0    536365    85123A   WHITE HANGING HEART T-LIGHT HOLDER         6   \n",
       "1    536365     71053                  WHITE METAL LANTERN         6   \n",
       "2    536365    84406B       CREAM CUPID HEARTS COAT HANGER         8   \n",
       "3    536365    84029G  KNITTED UNION FLAG HOT WATER BOTTLE         6   \n",
       "4    536365    84029E       RED WOOLLY HOTTIE WHITE HEART.         6   \n",
       "\n",
       "      InvoiceDate  UnitPrice  CustomerID         Country  \n",
       "0  12/1/2010 8:26       2.55     17850.0  United Kingdom  \n",
       "1  12/1/2010 8:26       3.39     17850.0  United Kingdom  \n",
       "2  12/1/2010 8:26       2.75     17850.0  United Kingdom  \n",
       "3  12/1/2010 8:26       3.39     17850.0  United Kingdom  \n",
       "4  12/1/2010 8:26       3.39     17850.0  United Kingdom  "
      ]
     },
     "execution_count": 3,
     "metadata": {},
     "output_type": "execute_result"
    }
   ],
   "source": [
    "df.head()"
   ]
  },
  {
   "cell_type": "code",
   "execution_count": 4,
   "id": "f6ecd623",
   "metadata": {},
   "outputs": [
    {
     "name": "stdout",
     "output_type": "stream",
     "text": [
      "<class 'pandas.core.frame.DataFrame'>\n",
      "RangeIndex: 541909 entries, 0 to 541908\n",
      "Data columns (total 8 columns):\n",
      " #   Column       Non-Null Count   Dtype  \n",
      "---  ------       --------------   -----  \n",
      " 0   InvoiceNo    541909 non-null  object \n",
      " 1   StockCode    541909 non-null  object \n",
      " 2   Description  540455 non-null  object \n",
      " 3   Quantity     541909 non-null  int64  \n",
      " 4   InvoiceDate  541909 non-null  object \n",
      " 5   UnitPrice    541909 non-null  float64\n",
      " 6   CustomerID   406829 non-null  float64\n",
      " 7   Country      541909 non-null  object \n",
      "dtypes: float64(2), int64(1), object(5)\n",
      "memory usage: 33.1+ MB\n"
     ]
    }
   ],
   "source": [
    "df.info()"
   ]
  },
  {
   "cell_type": "code",
   "execution_count": 5,
   "id": "bdbcae49",
   "metadata": {},
   "outputs": [
    {
     "data": {
      "text/plain": [
       "InvoiceNo           0\n",
       "StockCode           0\n",
       "Description      1454\n",
       "Quantity            0\n",
       "InvoiceDate         0\n",
       "UnitPrice           0\n",
       "CustomerID     135080\n",
       "Country             0\n",
       "dtype: int64"
      ]
     },
     "execution_count": 5,
     "metadata": {},
     "output_type": "execute_result"
    }
   ],
   "source": [
    "df.isna().sum()"
   ]
  },
  {
   "cell_type": "code",
   "execution_count": 6,
   "id": "12cb989f",
   "metadata": {},
   "outputs": [
    {
     "data": {
      "text/plain": [
       "(541909, 8)"
      ]
     },
     "execution_count": 6,
     "metadata": {},
     "output_type": "execute_result"
    }
   ],
   "source": [
    "df.shape"
   ]
  },
  {
   "cell_type": "markdown",
   "id": "71a781de",
   "metadata": {},
   "source": [
    "## Data Cleaning"
   ]
  },
  {
   "cell_type": "code",
   "execution_count": 7,
   "id": "86ca7515",
   "metadata": {},
   "outputs": [],
   "source": [
    "# remove alphabets from the invoice column\n",
    "df = df[~df['InvoiceNo'].str.contains('C', na=False)]"
   ]
  },
  {
   "cell_type": "code",
   "execution_count": 8,
   "id": "0bc8aee8",
   "metadata": {},
   "outputs": [],
   "source": [
    "df = df.dropna(subset=['CustomerID'])"
   ]
  },
  {
   "cell_type": "code",
   "execution_count": 9,
   "id": "fe7f1962",
   "metadata": {},
   "outputs": [],
   "source": [
    "df = df[df['Quantity'] > 0]"
   ]
  },
  {
   "cell_type": "code",
   "execution_count": 10,
   "id": "a8b29a7c",
   "metadata": {},
   "outputs": [],
   "source": [
    "df = df[df['UnitPrice'] > 0]"
   ]
  },
  {
   "cell_type": "code",
   "execution_count": 11,
   "id": "4f91e8d5",
   "metadata": {},
   "outputs": [],
   "source": [
    "# Keep only numeric stock codes\n",
    "df = df[df['StockCode'].str.isnumeric()]"
   ]
  },
  {
   "cell_type": "code",
   "execution_count": 12,
   "id": "3422f000",
   "metadata": {},
   "outputs": [
    {
     "data": {
      "text/plain": [
       "array(['71053', '22752', '21730', ..., '23561', '90089', '23843'],\n",
       "      shape=(2785,), dtype=object)"
      ]
     },
     "execution_count": 12,
     "metadata": {},
     "output_type": "execute_result"
    }
   ],
   "source": [
    "df['StockCode'].unique()"
   ]
  },
  {
   "cell_type": "code",
   "execution_count": 13,
   "id": "76fe9768",
   "metadata": {},
   "outputs": [],
   "source": [
    "df = df.drop_duplicates()"
   ]
  },
  {
   "cell_type": "code",
   "execution_count": 14,
   "id": "a8d11e0c",
   "metadata": {},
   "outputs": [],
   "source": [
    "# Remove rows with no description\n",
    "df = df[df['Description'].notna()]"
   ]
  },
  {
   "cell_type": "code",
   "execution_count": 15,
   "id": "3ff41d25",
   "metadata": {},
   "outputs": [],
   "source": [
    "#datatime format\n",
    "df['InvoiceDate'] = pd.to_datetime(df['InvoiceDate'])"
   ]
  },
  {
   "cell_type": "code",
   "execution_count": 16,
   "id": "9a16eaf8",
   "metadata": {},
   "outputs": [],
   "source": [
    "# Add Total Price\n",
    "df['TotalPrice'] = df['Quantity'] * df['UnitPrice']"
   ]
  },
  {
   "cell_type": "code",
   "execution_count": 17,
   "id": "5b8736e5",
   "metadata": {},
   "outputs": [
    {
     "data": {
      "text/html": [
       "<div>\n",
       "<style scoped>\n",
       "    .dataframe tbody tr th:only-of-type {\n",
       "        vertical-align: middle;\n",
       "    }\n",
       "\n",
       "    .dataframe tbody tr th {\n",
       "        vertical-align: top;\n",
       "    }\n",
       "\n",
       "    .dataframe thead th {\n",
       "        text-align: right;\n",
       "    }\n",
       "</style>\n",
       "<table border=\"1\" class=\"dataframe\">\n",
       "  <thead>\n",
       "    <tr style=\"text-align: right;\">\n",
       "      <th></th>\n",
       "      <th>CustomerID</th>\n",
       "      <th>Revenue</th>\n",
       "    </tr>\n",
       "  </thead>\n",
       "  <tbody>\n",
       "    <tr>\n",
       "      <th>0</th>\n",
       "      <td>12346.0</td>\n",
       "      <td>77183.60</td>\n",
       "    </tr>\n",
       "    <tr>\n",
       "      <th>1</th>\n",
       "      <td>12347.0</td>\n",
       "      <td>3653.45</td>\n",
       "    </tr>\n",
       "    <tr>\n",
       "      <th>2</th>\n",
       "      <td>12348.0</td>\n",
       "      <td>1437.24</td>\n",
       "    </tr>\n",
       "    <tr>\n",
       "      <th>3</th>\n",
       "      <td>12349.0</td>\n",
       "      <td>1372.42</td>\n",
       "    </tr>\n",
       "    <tr>\n",
       "      <th>4</th>\n",
       "      <td>12350.0</td>\n",
       "      <td>258.00</td>\n",
       "    </tr>\n",
       "    <tr>\n",
       "      <th>...</th>\n",
       "      <td>...</td>\n",
       "      <td>...</td>\n",
       "    </tr>\n",
       "    <tr>\n",
       "      <th>4309</th>\n",
       "      <td>18280.0</td>\n",
       "      <td>180.60</td>\n",
       "    </tr>\n",
       "    <tr>\n",
       "      <th>4310</th>\n",
       "      <td>18281.0</td>\n",
       "      <td>80.82</td>\n",
       "    </tr>\n",
       "    <tr>\n",
       "      <th>4311</th>\n",
       "      <td>18282.0</td>\n",
       "      <td>178.05</td>\n",
       "    </tr>\n",
       "    <tr>\n",
       "      <th>4312</th>\n",
       "      <td>18283.0</td>\n",
       "      <td>1918.24</td>\n",
       "    </tr>\n",
       "    <tr>\n",
       "      <th>4313</th>\n",
       "      <td>18287.0</td>\n",
       "      <td>1220.06</td>\n",
       "    </tr>\n",
       "  </tbody>\n",
       "</table>\n",
       "<p>4314 rows × 2 columns</p>\n",
       "</div>"
      ],
      "text/plain": [
       "      CustomerID   Revenue\n",
       "0        12346.0  77183.60\n",
       "1        12347.0   3653.45\n",
       "2        12348.0   1437.24\n",
       "3        12349.0   1372.42\n",
       "4        12350.0    258.00\n",
       "...          ...       ...\n",
       "4309     18280.0    180.60\n",
       "4310     18281.0     80.82\n",
       "4311     18282.0    178.05\n",
       "4312     18283.0   1918.24\n",
       "4313     18287.0   1220.06\n",
       "\n",
       "[4314 rows x 2 columns]"
      ]
     },
     "execution_count": 17,
     "metadata": {},
     "output_type": "execute_result"
    }
   ],
   "source": [
    "# Revenue per customer\n",
    "revenue_per_customer = df.groupby('CustomerID')['TotalPrice'].sum().reset_index(name='Revenue')\n",
    "revenue_per_customer"
   ]
  },
  {
   "cell_type": "code",
   "execution_count": 18,
   "id": "acf23b37",
   "metadata": {},
   "outputs": [
    {
     "name": "stdout",
     "output_type": "stream",
     "text": [
      "<class 'pandas.core.frame.DataFrame'>\n",
      "Index: 358277 entries, 1 to 541908\n",
      "Data columns (total 9 columns):\n",
      " #   Column       Non-Null Count   Dtype         \n",
      "---  ------       --------------   -----         \n",
      " 0   InvoiceNo    358277 non-null  object        \n",
      " 1   StockCode    358277 non-null  object        \n",
      " 2   Description  358277 non-null  object        \n",
      " 3   Quantity     358277 non-null  int64         \n",
      " 4   InvoiceDate  358277 non-null  datetime64[ns]\n",
      " 5   UnitPrice    358277 non-null  float64       \n",
      " 6   CustomerID   358277 non-null  float64       \n",
      " 7   Country      358277 non-null  object        \n",
      " 8   TotalPrice   358277 non-null  float64       \n",
      "dtypes: datetime64[ns](1), float64(3), int64(1), object(4)\n",
      "memory usage: 27.3+ MB\n"
     ]
    }
   ],
   "source": [
    "df.info()"
   ]
  },
  {
   "cell_type": "code",
   "execution_count": 19,
   "id": "6a639bc4",
   "metadata": {},
   "outputs": [],
   "source": [
    "# df.isna().sum()"
   ]
  },
  {
   "cell_type": "code",
   "execution_count": 29,
   "id": "2c271de3",
   "metadata": {},
   "outputs": [],
   "source": [
    "#save cleaned data\n",
    "df.to_csv('data/cleaned_data.csv', index=False)"
   ]
  },
  {
   "cell_type": "code",
   "execution_count": 20,
   "id": "5e7de9e2",
   "metadata": {},
   "outputs": [
    {
     "data": {
      "image/png": "[encoded data removed]",
      "text/plain": [
       "<Figure size 1000x500 with 1 Axes>"
      ]
     },
     "metadata": {},
     "output_type": "display_data"
    }
   ],
   "source": [
    "#Monthly revenue trend\n",
    "monthly_revenue = df.groupby(df['InvoiceDate'].dt.to_period(\"M\"))['TotalPrice'].sum()\n",
    "monthly_revenue.index = monthly_revenue.index.to_timestamp()\n",
    "\n",
    "plt.figure(figsize=(10,5))\n",
    "monthly_revenue.plot(kind='line', marker='o')\n",
    "plt.title(\"Monthly Revenue Trend\")\n",
    "plt.xlabel(\"Month\")\n",
    "plt.ylabel(\"Revenue\")\n",
    "plt.grid(True)\n",
    "plt.show()"
   ]
  },
  {
   "cell_type": "code",
   "execution_count": 21,
   "id": "305089b7",
   "metadata": {},
   "outputs": [
    {
     "data": {
      "image/png": "[encoded data removed]",
      "text/plain": [
       "<Figure size 640x480 with 1 Axes>"
      ]
     },
     "metadata": {},
     "output_type": "display_data"
    }
   ],
   "source": [
    "#top 10 customer based on revenue\n",
    "top_customers = revenue_per_customer.sort_values(by='Revenue', ascending=False).head(10)\n",
    "top_customers.plot(kind='bar', x='CustomerID', y='Revenue', legend=False)\n",
    "plt.title(\"Top 10 Customers by Revenue\")\n",
    "plt.xlabel(\"Customer ID\")\n",
    "plt.ylabel(\"Revenue\")\n",
    "plt.xticks(rotation=45)\n",
    "plt.show()"
   ]
  },
  {
   "cell_type": "code",
   "execution_count": 22,
   "id": "29eee63a",
   "metadata": {},
   "outputs": [],
   "source": [
    "#RFM Metrics after cleaning [Recency, Frequency, Monetary]\n",
    "snapshot_date = df['InvoiceDate'].max() + pd.Timedelta(days=1)\n",
    "\n",
    "rfm = df.groupby('CustomerID').agg({\n",
    "    'InvoiceDate': lambda x: (snapshot_date - x.max()).days,    \n",
    "    'InvoiceNo': 'nunique',                                     \n",
    "    'TotalPrice': 'sum'                                         \n",
    "}).reset_index()\n",
    "rfm.rename(columns={\n",
    "    'InvoiceDate': 'Recency',\n",
    "    'InvoiceNo': 'Frequency',\n",
    "    'TotalPrice': 'Monetary'\n",
    "}, inplace=True)"
   ]
  },
  {
   "cell_type": "code",
   "execution_count": 23,
   "id": "b5851ff9",
   "metadata": {},
   "outputs": [
    {
     "data": {
      "text/html": [
       "<div>\n",
       "<style scoped>\n",
       "    .dataframe tbody tr th:only-of-type {\n",
       "        vertical-align: middle;\n",
       "    }\n",
       "\n",
       "    .dataframe tbody tr th {\n",
       "        vertical-align: top;\n",
       "    }\n",
       "\n",
       "    .dataframe thead th {\n",
       "        text-align: right;\n",
       "    }\n",
       "</style>\n",
       "<table border=\"1\" class=\"dataframe\">\n",
       "  <thead>\n",
       "    <tr style=\"text-align: right;\">\n",
       "      <th></th>\n",
       "      <th>CustomerID</th>\n",
       "      <th>Recency</th>\n",
       "      <th>Frequency</th>\n",
       "      <th>Monetary</th>\n",
       "    </tr>\n",
       "  </thead>\n",
       "  <tbody>\n",
       "    <tr>\n",
       "      <th>0</th>\n",
       "      <td>12346.0</td>\n",
       "      <td>326</td>\n",
       "      <td>1</td>\n",
       "      <td>77183.60</td>\n",
       "    </tr>\n",
       "    <tr>\n",
       "      <th>1</th>\n",
       "      <td>12347.0</td>\n",
       "      <td>2</td>\n",
       "      <td>7</td>\n",
       "      <td>3653.45</td>\n",
       "    </tr>\n",
       "    <tr>\n",
       "      <th>2</th>\n",
       "      <td>12348.0</td>\n",
       "      <td>75</td>\n",
       "      <td>4</td>\n",
       "      <td>1437.24</td>\n",
       "    </tr>\n",
       "    <tr>\n",
       "      <th>3</th>\n",
       "      <td>12349.0</td>\n",
       "      <td>19</td>\n",
       "      <td>1</td>\n",
       "      <td>1372.42</td>\n",
       "    </tr>\n",
       "    <tr>\n",
       "      <th>4</th>\n",
       "      <td>12350.0</td>\n",
       "      <td>310</td>\n",
       "      <td>1</td>\n",
       "      <td>258.00</td>\n",
       "    </tr>\n",
       "  </tbody>\n",
       "</table>\n",
       "</div>"
      ],
      "text/plain": [
       "   CustomerID  Recency  Frequency  Monetary\n",
       "0     12346.0      326          1  77183.60\n",
       "1     12347.0        2          7   3653.45\n",
       "2     12348.0       75          4   1437.24\n",
       "3     12349.0       19          1   1372.42\n",
       "4     12350.0      310          1    258.00"
      ]
     },
     "execution_count": 23,
     "metadata": {},
     "output_type": "execute_result"
    }
   ],
   "source": [
    "rfm.head()"
   ]
  },
  {
   "cell_type": "code",
   "execution_count": 24,
   "id": "92385b31",
   "metadata": {},
   "outputs": [
    {
     "data": {
      "image/png": "[encoded data removed]",
      "text/plain": [
       "<Figure size 1800x500 with 3 Axes>"
      ]
     },
     "metadata": {},
     "output_type": "display_data"
    }
   ],
   "source": [
    "#Distribution of RFM metrics\n",
    "fig, axes = plt.subplots(1, 3, figsize=(18,5))\n",
    "\n",
    "axes[0].hist(rfm['Recency'], bins=30, color='skyblue', edgecolor='black')\n",
    "axes[0].set_title(\"Recency Distribution\")\n",
    "axes[0].set_xlabel(\"Days Since Last Purchase\")\n",
    "\n",
    "axes[1].hist(rfm['Frequency'], bins=30, color='lightgreen', edgecolor='black')\n",
    "axes[1].set_title(\"Frequency Distribution\")\n",
    "axes[1].set_xlabel(\"Number of Purchases\")\n",
    "\n",
    "axes[2].hist(rfm['Monetary'], bins=30, color='salmon', edgecolor='black')\n",
    "axes[2].set_title(\"Monetary Distribution\")\n",
    "axes[2].set_xlabel(\"Total Spend\")\n",
    "\n",
    "plt.tight_layout()\n",
    "plt.show()"
   ]
  },
  {
   "cell_type": "markdown",
   "id": "5806eee3",
   "metadata": {},
   "source": [
    "RFM Distributions key insights:\n",
    "\n",
    "    Recency: many customers haven’t purchased in a long time (potential churn).\n",
    "    Frequency: most customers buy only a few times.\n",
    "    Monetary: only a small group contributes high revenue."
   ]
  },
  {
   "cell_type": "markdown",
   "id": "3f7b1ec8",
   "metadata": {},
   "source": [
    "## Data Engineering Workflows"
   ]
  },
  {
   "cell_type": "code",
   "execution_count": 25,
   "id": "c4b9b284",
   "metadata": {},
   "outputs": [],
   "source": [
    "import psycopg2\n",
    "from sqlalchemy import create_engine\n",
    "import os\n",
    "from datetime import datetime"
   ]
  },
  {
   "cell_type": "code",
   "execution_count": 26,
   "id": "e9024c10",
   "metadata": {},
   "outputs": [
    {
     "name": "stdout",
     "output_type": "stream",
     "text": [
      "Environment variables check:\n",
      "DB_HOST: localhost\n",
      "DB_NAME: ecommerce_analytics\n",
      "DB_USER: postgres\n",
      "DB_PASSWORD: Loaded\n",
      "DB_PORT: 5432\n",
      "All configuration loaded successfully!\n"
     ]
    }
   ],
   "source": [
    "#database confriguartion\n",
    "from dotenv import load_dotenv\n",
    "import os\n",
    "\n",
    "load_dotenv()\n",
    "\n",
    "#confriguation\n",
    "DB_CONFIG = {\n",
    "    'host': os.getenv('DB_HOST', 'localhost'),\n",
    "    'database': os.getenv('DB_NAME', 'ecommerce_analytics'),\n",
    "    'user': os.getenv('DB_USER', 'postgres'),\n",
    "    'password': os.getenv('DB_PASSWORD'), \n",
    "    'port': int(os.getenv('DB_PORT', 5432))\n",
    "}\n",
    "\n",
    "print(\"Environment variables check:\")\n",
    "print(f\"DB_HOST: {DB_CONFIG['host']}\")\n",
    "print(f\"DB_NAME: {DB_CONFIG['database']}\")\n",
    "print(f\"DB_USER: {DB_CONFIG['user']}\")\n",
    "print(f\"DB_PASSWORD: {'Loaded' if DB_CONFIG['password'] else ' NOT FOUND'}\")\n",
    "print(f\"DB_PORT: {DB_CONFIG['port']}\")\n",
    "\n",
    "# Verify if password is loaded\n",
    "if not DB_CONFIG['password']:\n",
    "    print(\"ERROR: DB_PASSWORD not found in .env file!\")\n",
    "    print(\"Make sure your .env file contains: DB_PASSWORD=your_actual_password\")\n",
    "else:\n",
    "    print(\"All configuration loaded successfully!\")"
   ]
  },
  {
   "cell_type": "code",
   "execution_count": 27,
   "id": "228dcb67",
   "metadata": {},
   "outputs": [
    {
     "name": "stdout",
     "output_type": "stream",
     "text": [
      "Attempting to connect to PostgreSQL...\n",
      "Successfully connected to PostgreSQL!\n",
      "Database: ecommerce_analytics\n",
      "PostgreSQL version: PostgreSQL 17.6\n"
     ]
    }
   ],
   "source": [
    "def create_db_connection():\n",
    "    \"\"\"Create PostgreSQL database connection and SQLAlchemy engine\"\"\"\n",
    "    \n",
    "    # Check if password is loaded\n",
    "    if not DB_CONFIG['password']:\n",
    "        print(\"ERROR: Database password not found!\")\n",
    "        print(\"Check your .env file and make sure it contains DB_PASSWORD=your_password\")\n",
    "        return None, None\n",
    "    \n",
    "    try:\n",
    "        print(\"Attempting to connect to PostgreSQL...\")\n",
    "        \n",
    "        # SQLAlchemy engine for pandas integration\n",
    "        engine = create_engine(f\"postgresql://{DB_CONFIG['user']}:{DB_CONFIG['password']}@{DB_CONFIG['host']}:{DB_CONFIG['port']}/{DB_CONFIG['database']}\")\n",
    "        \n",
    "        # Direct psycopg2 connection for DDL operations\n",
    "        conn = psycopg2.connect(**DB_CONFIG)\n",
    "        \n",
    "        # Test the connection\n",
    "        cursor = conn.cursor()\n",
    "        cursor.execute(\"SELECT version();\")\n",
    "        version = cursor.fetchone()[0]\n",
    "        cursor.close()\n",
    "        \n",
    "        print(\"Successfully connected to PostgreSQL!\")\n",
    "        print(f\"Database: {DB_CONFIG['database']}\")\n",
    "        print(f\"PostgreSQL version: {version.split()[0]} {version.split()[1]}\")\n",
    "        return conn, engine\n",
    "    \n",
    "    except psycopg2.OperationalError as e:\n",
    "        print(f\"Connection failed: {e}\")\n",
    "        return None, None\n",
    "    \n",
    "    except Exception as e:\n",
    "        print(f\"Unexpected error: {e}\")\n",
    "        return None, None\n",
    "\n",
    "conn, engine = create_db_connection()"
   ]
  },
  {
   "cell_type": "code",
   "execution_count": 28,
   "id": "73eccee4",
   "metadata": {},
   "outputs": [
    {
     "name": "stdout",
     "output_type": "stream",
     "text": [
      "Creating PostgreSQL schema...\n",
      "PostgreSQL schema created successfully\n",
      "Tables created: customers, products, orders, order_items\n",
      "Indexes created for optimal query performance\n",
      "Views created: monthly_sales_summary, customer_analytics, product_performance\n",
      "Triggers created for automatic customer statistics updates\n",
      "PostgreSQL schema created successfully\n",
      "Tables created: customers, products, orders, order_items\n",
      "Indexes created for optimal query performance\n",
      "Views created: monthly_sales_summary, customer_analytics, product_performance\n",
      "Triggers created for automatic customer statistics updates\n"
     ]
    }
   ],
   "source": [
    "#database schema\n",
    "def create_postgres_schema(conn):\n",
    "    \"\"\"Create PostgreSQL database schema with normalized tables and proper constraints\"\"\"\n",
    "    \n",
    "    cursor = conn.cursor()\n",
    "    \n",
    "    try:\n",
    "        print(\"Creating PostgreSQL schema...\")\n",
    "        \n",
    "        # Drop existing tables in correct order (reverse of creation due to foreign keys)\n",
    "        cursor.execute('''\n",
    "            DROP TABLE IF EXISTS order_items CASCADE;\n",
    "            DROP TABLE IF EXISTS orders CASCADE;\n",
    "            DROP TABLE IF EXISTS products CASCADE;\n",
    "            DROP TABLE IF EXISTS customers CASCADE;\n",
    "        ''')\n",
    "        \n",
    "        # 1. Customers dimension table\n",
    "        cursor.execute('''\n",
    "            CREATE TABLE customers (\n",
    "                customer_id BIGINT PRIMARY KEY,\n",
    "                first_purchase_date DATE NOT NULL,\n",
    "                last_purchase_date DATE NOT NULL,\n",
    "                total_orders INTEGER DEFAULT 0 CHECK (total_orders >= 0),\n",
    "                total_spent DECIMAL(12,2) DEFAULT 0.00 CHECK (total_spent >= 0),\n",
    "                avg_order_value DECIMAL(10,2),\n",
    "                customer_segment VARCHAR(20),\n",
    "                created_at TIMESTAMP DEFAULT CURRENT_TIMESTAMP,\n",
    "                updated_at TIMESTAMP DEFAULT CURRENT_TIMESTAMP,\n",
    "                CONSTRAINT chk_purchase_dates CHECK (last_purchase_date >= first_purchase_date)\n",
    "            )\n",
    "        ''')\n",
    "        \n",
    "        # 2. Products dimension table\n",
    "        cursor.execute('''\n",
    "            CREATE TABLE products (\n",
    "                stock_code VARCHAR(50) PRIMARY KEY,\n",
    "                description TEXT NOT NULL,\n",
    "                unit_price DECIMAL(10,2) CHECK (unit_price >= 0),\n",
    "                first_seen_date DATE,\n",
    "                category VARCHAR(100),\n",
    "                is_active BOOLEAN DEFAULT TRUE,\n",
    "                created_at TIMESTAMP DEFAULT CURRENT_TIMESTAMP,\n",
    "                updated_at TIMESTAMP DEFAULT CURRENT_TIMESTAMP\n",
    "            )\n",
    "        ''')\n",
    "        \n",
    "        # 3. Orders fact table\n",
    "        cursor.execute('''\n",
    "            CREATE TABLE orders (\n",
    "                invoice_no VARCHAR(50) PRIMARY KEY,\n",
    "                customer_id BIGINT NOT NULL,\n",
    "                invoice_date DATE NOT NULL,\n",
    "                country VARCHAR(100),\n",
    "                total_amount DECIMAL(12,2) DEFAULT 0.00 CHECK (total_amount >= 0),\n",
    "                total_items INTEGER DEFAULT 0 CHECK (total_items >= 0),\n",
    "                order_status VARCHAR(20) DEFAULT 'completed',\n",
    "                created_at TIMESTAMP DEFAULT CURRENT_TIMESTAMP,\n",
    "                updated_at TIMESTAMP DEFAULT CURRENT_TIMESTAMP,\n",
    "                FOREIGN KEY (customer_id) REFERENCES customers (customer_id) ON DELETE CASCADE\n",
    "            )\n",
    "        ''')\n",
    "        \n",
    "        # 4. Order items fact table\n",
    "        cursor.execute('''\n",
    "            CREATE TABLE order_items (\n",
    "                id SERIAL PRIMARY KEY,\n",
    "                invoice_no VARCHAR(50) NOT NULL,\n",
    "                stock_code VARCHAR(50) NOT NULL,\n",
    "                quantity INTEGER NOT NULL CHECK (quantity > 0),\n",
    "                unit_price DECIMAL(10,2) NOT NULL CHECK (unit_price > 0),\n",
    "                total_price DECIMAL(12,2) NOT NULL CHECK (total_price > 0),\n",
    "                created_at TIMESTAMP DEFAULT CURRENT_TIMESTAMP,\n",
    "                FOREIGN KEY (invoice_no) REFERENCES orders (invoice_no) ON DELETE CASCADE,\n",
    "                FOREIGN KEY (stock_code) REFERENCES products (stock_code) ON DELETE CASCADE\n",
    "            )\n",
    "        ''')\n",
    "        \n",
    "        # Create performance indexes\n",
    "        cursor.execute('''\n",
    "            CREATE INDEX idx_customers_total_spent ON customers (total_spent DESC);\n",
    "            CREATE INDEX idx_customers_segment ON customers (customer_segment);\n",
    "            CREATE INDEX idx_orders_customer_id ON orders (customer_id);\n",
    "            CREATE INDEX idx_orders_invoice_date ON orders (invoice_date);\n",
    "            CREATE INDEX idx_orders_country ON orders (country);\n",
    "            CREATE INDEX idx_orders_total_amount ON orders (total_amount DESC);\n",
    "            CREATE INDEX idx_order_items_invoice_no ON order_items (invoice_no);\n",
    "            CREATE INDEX idx_order_items_stock_code ON order_items (stock_code);\n",
    "            CREATE INDEX idx_order_items_total_price ON order_items (total_price DESC);\n",
    "            CREATE INDEX idx_products_unit_price ON products (unit_price);\n",
    "            CREATE INDEX idx_products_category ON products (category);\n",
    "        ''')\n",
    "        \n",
    "        # Create business intelligence views\n",
    "        cursor.execute('''\n",
    "            CREATE OR REPLACE VIEW monthly_sales_summary AS\n",
    "            SELECT \n",
    "                DATE_TRUNC('month', invoice_date) as sales_month,\n",
    "                COUNT(DISTINCT invoice_no) as total_orders,\n",
    "                COUNT(DISTINCT customer_id) as unique_customers,\n",
    "                SUM(total_amount) as total_revenue,\n",
    "                AVG(total_amount) as avg_order_value,\n",
    "                MAX(total_amount) as max_order_value,\n",
    "                MIN(total_amount) as min_order_value\n",
    "            FROM orders \n",
    "            GROUP BY DATE_TRUNC('month', invoice_date)\n",
    "            ORDER BY sales_month;\n",
    "        ''')\n",
    "        \n",
    "        cursor.execute('''\n",
    "            CREATE OR REPLACE VIEW customer_analytics AS\n",
    "            SELECT \n",
    "                c.*,\n",
    "                (CURRENT_DATE - c.last_purchase_date) as days_since_last_order,\n",
    "                CASE \n",
    "                    WHEN c.total_spent >= 5000 THEN 'High Value'\n",
    "                    WHEN c.total_spent >= 1000 THEN 'Medium Value' \n",
    "                    ELSE 'Low Value'\n",
    "                END as value_segment,\n",
    "                CASE \n",
    "                    WHEN (CURRENT_DATE - c.last_purchase_date) <= 30 THEN 'Active'\n",
    "                    WHEN (CURRENT_DATE - c.last_purchase_date) <= 90 THEN 'At Risk'\n",
    "                    ELSE 'Inactive'\n",
    "                END as activity_status\n",
    "            FROM customers c;\n",
    "        ''')\n",
    "        \n",
    "        cursor.execute('''\n",
    "            CREATE OR REPLACE VIEW product_performance AS\n",
    "            SELECT \n",
    "                p.stock_code,\n",
    "                p.description,\n",
    "                p.unit_price,\n",
    "                p.category,\n",
    "                COUNT(oi.id) as times_ordered,\n",
    "                SUM(oi.quantity) as total_quantity_sold,\n",
    "                SUM(oi.total_price) as total_revenue,\n",
    "                AVG(oi.unit_price) as avg_selling_price,\n",
    "                COUNT(DISTINCT oi.invoice_no) as unique_orders\n",
    "            FROM products p\n",
    "            LEFT JOIN order_items oi ON p.stock_code = oi.stock_code\n",
    "            GROUP BY p.stock_code, p.description, p.unit_price, p.category\n",
    "            ORDER BY total_revenue DESC NULLS LAST;\n",
    "        ''')\n",
    "        \n",
    "        # Create stored procedures for common operations\n",
    "        cursor.execute('''\n",
    "            CREATE OR REPLACE FUNCTION update_customer_stats()\n",
    "            RETURNS TRIGGER AS $$\n",
    "            BEGIN\n",
    "                UPDATE customers SET \n",
    "                    updated_at = CURRENT_TIMESTAMP,\n",
    "                    total_orders = (\n",
    "                        SELECT COUNT(*) FROM orders WHERE customer_id = NEW.customer_id\n",
    "                    ),\n",
    "                    total_spent = (\n",
    "                        SELECT COALESCE(SUM(total_amount), 0) FROM orders WHERE customer_id = NEW.customer_id\n",
    "                    ),\n",
    "                    avg_order_value = (\n",
    "                        SELECT COALESCE(AVG(total_amount), 0) FROM orders WHERE customer_id = NEW.customer_id\n",
    "                    ),\n",
    "                    last_purchase_date = (\n",
    "                        SELECT MAX(invoice_date) FROM orders WHERE customer_id = NEW.customer_id\n",
    "                    )\n",
    "                WHERE customer_id = NEW.customer_id;\n",
    "                RETURN NEW;\n",
    "            END;\n",
    "            $$ LANGUAGE plpgsql;\n",
    "        ''')\n",
    "        \n",
    "        cursor.execute('''\n",
    "            CREATE TRIGGER trigger_update_customer_stats\n",
    "            AFTER INSERT OR UPDATE ON orders\n",
    "            FOR EACH ROW\n",
    "            EXECUTE FUNCTION update_customer_stats();\n",
    "        ''')\n",
    "        \n",
    "        conn.commit()\n",
    "        print(\"PostgreSQL schema created successfully\")\n",
    "        print(\"Tables created: customers, products, orders, order_items\")\n",
    "        print(\"Indexes created for optimal query performance\")\n",
    "        print(\"Views created: monthly_sales_summary, customer_analytics, product_performance\")\n",
    "        print(\"Triggers created for automatic customer statistics updates\")\n",
    "        \n",
    "    except Exception as e:\n",
    "        conn.rollback()\n",
    "        print(f\"Error creating schema: {e}\")\n",
    "        raise\n",
    "        \n",
    "    finally:\n",
    "        cursor.close()\n",
    "\n",
    "# Execute schema creation\n",
    "if conn:\n",
    "    create_postgres_schema(conn)\n",
    "else:\n",
    "    print(\"Database connection not available. Please establish connection first.\")"
   ]
  }
 ],
 "metadata": {
  "kernelspec": {
   "display_name": "venv",
   "language": "python",
   "name": "python3"
  },
  "language_info": {
   "codemirror_mode": {
    "name": "ipython",
    "version": 3
   },
   "file_extension": ".py",
   "mimetype": "text/x-python",
   "name": "python",
   "nbconvert_exporter": "python",
   "pygments_lexer": "ipython3",
   "version": "3.13.1"
  }
 },
 "nbformat": 4,
 "nbformat_minor": 5
}
